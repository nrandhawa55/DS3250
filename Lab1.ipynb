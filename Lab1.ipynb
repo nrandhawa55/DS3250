{
 "cells": [
  {
   "cell_type": "code",
   "execution_count": null,
   "metadata": {
    "collapsed": true
   },
   "outputs": [],
   "source": [
    "fruits = ['apples', 'oranges', 'pears', 'apricots']\n",
    "for x in fruits:\n",
    "        print (\"a fruit of type: \"+ x)"
   ]
  },
  {
   "cell_type": "code",
   "execution_count": null,
   "metadata": {
    "collapsed": true
   },
   "outputs": [],
   "source": [
    "mylist = []\n",
    "for x in range (0,5):\n",
    "    mylist.append(x)"
   ]
  },
  {
   "cell_type": "code",
   "execution_count": null,
   "metadata": {
    "collapsed": true
   },
   "outputs": [],
   "source": [
    "mylist"
   ]
  },
  {
   "cell_type": "code",
   "execution_count": null,
   "metadata": {
    "collapsed": true
   },
   "outputs": [],
   "source": [
    "print (mylist)"
   ]
  },
  {
   "cell_type": "code",
   "execution_count": null,
   "metadata": {
    "collapsed": true
   },
   "outputs": [],
   "source": [
    "mylist"
   ]
  },
  {
   "cell_type": "code",
   "execution_count": null,
   "metadata": {
    "collapsed": true
   },
   "outputs": [],
   "source": [
    "mylist.reverse()"
   ]
  },
  {
   "cell_type": "code",
   "execution_count": null,
   "metadata": {
    "collapsed": true
   },
   "outputs": [],
   "source": [
    "mylist"
   ]
  },
  {
   "cell_type": "code",
   "execution_count": null,
   "metadata": {
    "collapsed": true
   },
   "outputs": [],
   "source": [
    "mylist.index(4)"
   ]
  },
  {
   "cell_type": "code",
   "execution_count": null,
   "metadata": {
    "collapsed": true
   },
   "outputs": [],
   "source": [
    "a = 'apple'"
   ]
  },
  {
   "cell_type": "code",
   "execution_count": null,
   "metadata": {
    "collapsed": true
   },
   "outputs": [],
   "source": [
    "a or a"
   ]
  },
  {
   "cell_type": "code",
   "execution_count": null,
   "metadata": {
    "collapsed": true
   },
   "outputs": [],
   "source": [
    "def printList (n) :\n",
    "    a = 0\n",
    "    while (a <n):\n",
    "        print (a+1)\n",
    "        a+=1        #a = a+1\n"
   ]
  },
  {
   "cell_type": "code",
   "execution_count": null,
   "metadata": {
    "collapsed": true
   },
   "outputs": [],
   "source": [
    "printList(10)"
   ]
  },
  {
   "cell_type": "code",
   "execution_count": null,
   "metadata": {
    "collapsed": true
   },
   "outputs": [],
   "source": [
    "city = \"Missisauga\""
   ]
  },
  {
   "cell_type": "code",
   "execution_count": null,
   "metadata": {
    "collapsed": true
   },
   "outputs": [],
   "source": [
    "city[-1]"
   ]
  },
  {
   "cell_type": "code",
   "execution_count": null,
   "metadata": {
    "collapsed": true
   },
   "outputs": [],
   "source": [
    "city[-2]"
   ]
  },
  {
   "cell_type": "code",
   "execution_count": null,
   "metadata": {
    "collapsed": true
   },
   "outputs": [],
   "source": [
    "city[2:5]"
   ]
  },
  {
   "cell_type": "code",
   "execution_count": null,
   "metadata": {
    "collapsed": true
   },
   "outputs": [],
   "source": [
    "city[2:6]"
   ]
  },
  {
   "cell_type": "code",
   "execution_count": null,
   "metadata": {
    "collapsed": true
   },
   "outputs": [],
   "source": [
    "city[-len(city)]"
   ]
  },
  {
   "cell_type": "code",
   "execution_count": null,
   "metadata": {
    "collapsed": true
   },
   "outputs": [],
   "source": [
    "city [:]"
   ]
  },
  {
   "cell_type": "code",
   "execution_count": null,
   "metadata": {
    "collapsed": true
   },
   "outputs": [],
   "source": [
    "def search(ch, word):\n",
    "    index = 0\n",
    "    ch = ch.upper()\n",
    "    word = word.upper()\n",
    "    while (index < len(word)):\n",
    "        if (word[index]==ch):\n",
    "            print (index)\n",
    "        index+=1\n"
   ]
  },
  {
   "cell_type": "code",
   "execution_count": null,
   "metadata": {
    "collapsed": true
   },
   "outputs": [],
   "source": [
    "search(\"M\", \"Mammoth\")"
   ]
  },
  {
   "cell_type": "code",
   "execution_count": null,
   "metadata": {
    "collapsed": true
   },
   "outputs": [],
   "source": [
    "a = 'A'\n",
    "b = 'a'\n",
    "a > b"
   ]
  },
  {
   "cell_type": "code",
   "execution_count": null,
   "metadata": {
    "collapsed": true
   },
   "outputs": [],
   "source": [
    "a < b"
   ]
  },
  {
   "cell_type": "code",
   "execution_count": null,
   "metadata": {
    "collapsed": true
   },
   "outputs": [],
   "source": [
    "city.count(\"s\")"
   ]
  },
  {
   "cell_type": "code",
   "execution_count": null,
   "metadata": {
    "collapsed": true
   },
   "outputs": [],
   "source": [
    "mixedList = [1,\"Nav\", 2, 2.4]"
   ]
  },
  {
   "cell_type": "code",
   "execution_count": null,
   "metadata": {
    "collapsed": true
   },
   "outputs": [],
   "source": [
    "mixedList"
   ]
  },
  {
   "cell_type": "code",
   "execution_count": null,
   "metadata": {
    "collapsed": true
   },
   "outputs": [],
   "source": [
    "mixedList = [mixedList, 1, 43]"
   ]
  },
  {
   "cell_type": "code",
   "execution_count": null,
   "metadata": {
    "collapsed": true
   },
   "outputs": [],
   "source": [
    "mixedList"
   ]
  },
  {
   "cell_type": "code",
   "execution_count": null,
   "metadata": {
    "collapsed": true
   },
   "outputs": [],
   "source": [
    "len(mixedList)"
   ]
  },
  {
   "cell_type": "code",
   "execution_count": null,
   "metadata": {
    "collapsed": true
   },
   "outputs": [],
   "source": [
    "mixedList[0]"
   ]
  },
  {
   "cell_type": "code",
   "execution_count": null,
   "metadata": {
    "collapsed": true
   },
   "outputs": [],
   "source": [
    "mixedList[0][1]"
   ]
  },
  {
   "cell_type": "code",
   "execution_count": null,
   "metadata": {
    "collapsed": true
   },
   "outputs": [],
   "source": [
    "mixedList"
   ]
  },
  {
   "cell_type": "code",
   "execution_count": null,
   "metadata": {
    "collapsed": true
   },
   "outputs": [],
   "source": [
    "len(mixedList[0])"
   ]
  },
  {
   "cell_type": "code",
   "execution_count": null,
   "metadata": {
    "collapsed": true
   },
   "outputs": [],
   "source": [
    "type(mixedList[1])"
   ]
  },
  {
   "cell_type": "code",
   "execution_count": null,
   "metadata": {
    "collapsed": true
   },
   "outputs": [],
   "source": [
    "mixedList"
   ]
  },
  {
   "cell_type": "code",
   "execution_count": null,
   "metadata": {
    "collapsed": true
   },
   "outputs": [],
   "source": [
    "mixedList.extend([1,1])"
   ]
  },
  {
   "cell_type": "code",
   "execution_count": null,
   "metadata": {
    "collapsed": true
   },
   "outputs": [],
   "source": [
    "mixedList"
   ]
  },
  {
   "cell_type": "code",
   "execution_count": null,
   "metadata": {
    "collapsed": true
   },
   "outputs": [],
   "source": [
    "stringList = [\"Nav\", \"Test\", \"A\"]"
   ]
  },
  {
   "cell_type": "code",
   "execution_count": null,
   "metadata": {
    "collapsed": true
   },
   "outputs": [],
   "source": [
    "stringList"
   ]
  },
  {
   "cell_type": "code",
   "execution_count": null,
   "metadata": {
    "collapsed": true
   },
   "outputs": [],
   "source": [
    "stringList.sort()"
   ]
  },
  {
   "cell_type": "code",
   "execution_count": null,
   "metadata": {
    "collapsed": true
   },
   "outputs": [],
   "source": [
    "stringList"
   ]
  },
  {
   "cell_type": "code",
   "execution_count": null,
   "metadata": {
    "collapsed": true
   },
   "outputs": [],
   "source": [
    "stringList.sort()"
   ]
  },
  {
   "cell_type": "code",
   "execution_count": null,
   "metadata": {
    "collapsed": true
   },
   "outputs": [],
   "source": [
    "stringList"
   ]
  },
  {
   "cell_type": "code",
   "execution_count": null,
   "metadata": {
    "collapsed": true
   },
   "outputs": [],
   "source": [
    "stringList.append(\"B\")\n",
    "stringList"
   ]
  },
  {
   "cell_type": "code",
   "execution_count": null,
   "metadata": {
    "collapsed": true
   },
   "outputs": [],
   "source": [
    "stringList.reverse()"
   ]
  },
  {
   "cell_type": "code",
   "execution_count": null,
   "metadata": {
    "collapsed": true
   },
   "outputs": [],
   "source": [
    "stringList"
   ]
  },
  {
   "cell_type": "code",
   "execution_count": null,
   "metadata": {
    "collapsed": true
   },
   "outputs": [],
   "source": [
    "stringList.sort()\n",
    "stringList\n",
    "stringList.reverse()\n",
    "stringList"
   ]
  },
  {
   "cell_type": "code",
   "execution_count": null,
   "metadata": {
    "collapsed": true
   },
   "outputs": [],
   "source": [
    "mydictionary = {\"ON\" : \"ONTARIO\", \"BC\": \"British Columbia\"}\n",
    "mydictionary"
   ]
  },
  {
   "cell_type": "code",
   "execution_count": null,
   "metadata": {
    "collapsed": true
   },
   "outputs": [],
   "source": [
    "mydictionary[\"ON\"]"
   ]
  },
  {
   "cell_type": "code",
   "execution_count": null,
   "metadata": {
    "collapsed": true
   },
   "outputs": [],
   "source": [
    "mydictionary = {1:[0,1,2]}"
   ]
  },
  {
   "cell_type": "code",
   "execution_count": null,
   "metadata": {
    "collapsed": true
   },
   "outputs": [],
   "source": [
    "mydictionary"
   ]
  },
  {
   "cell_type": "code",
   "execution_count": null,
   "metadata": {
    "collapsed": true
   },
   "outputs": [],
   "source": [
    "tuple1 = 'apple', 'banana', 'carrot'\n",
    "tuple1"
   ]
  },
  {
   "cell_type": "code",
   "execution_count": null,
   "metadata": {
    "collapsed": true
   },
   "outputs": [],
   "source": [
    "s= \"World\"\n",
    "li = [1,2,3,4]\n",
    "z = zip(s,li)"
   ]
  },
  {
   "cell_type": "code",
   "execution_count": null,
   "metadata": {
    "collapsed": true
   },
   "outputs": [],
   "source": [
    "print(z)"
   ]
  },
  {
   "cell_type": "code",
   "execution_count": null,
   "metadata": {
    "collapsed": true
   },
   "outputs": [],
   "source": [
    "for letter in z:\n",
    "    print (letter)"
   ]
  },
  {
   "cell_type": "code",
   "execution_count": null,
   "metadata": {
    "collapsed": true
   },
   "outputs": [],
   "source": [
    "l = [1, 5, 5, 6, 0, 2, 4 ]\n",
    "l.sort()\n",
    "l"
   ]
  },
  {
   "cell_type": "code",
   "execution_count": null,
   "metadata": {
    "collapsed": true
   },
   "outputs": [],
   "source": [
    "l"
   ]
  },
  {
   "cell_type": "code",
   "execution_count": null,
   "metadata": {
    "collapsed": true
   },
   "outputs": [],
   "source": [
    "# function to find if there is any duplicate in the list\n",
    "# function return 'True' if duplicate exist else returns 'False'\n",
    "\n",
    "# input : list\n",
    "# output : boolean\n",
    "\n",
    "def has_duplicates (l):\n",
    "    s = l[:] # create copy of original list 'l'\n",
    "    s.sort()\n",
    "    \n",
    "    for index in range(0,len(s)-1):\n",
    "        if (s[index]==s[index+1]):\n",
    "            return True\n",
    "    else:\n",
    "        return False   "
   ]
  },
  {
   "cell_type": "code",
   "execution_count": null,
   "metadata": {
    "collapsed": true
   },
   "outputs": [],
   "source": [
    "def generate_birthday_list(n):\n",
    "    s = []\n",
    "    for i in range(0,n):\n",
    "        birthday = random.randint(1,365)\n",
    "        s.append(birthday)\n",
    "    return s"
   ]
  },
  {
   "cell_type": "code",
   "execution_count": null,
   "metadata": {
    "collapsed": true
   },
   "outputs": [],
   "source": [
    "# Calculate probability of any two students having the same birthday \n",
    "# in a class of size 'n' for sample size 'k' \n",
    "\n",
    "# input : Class size (n) and Sample Size (k)\n",
    "\n",
    "def calculate_prob (n,k):\n",
    "    found_duplicate=0\n",
    "    for i in range (0,k):\n",
    "        s = generate_birthday_list(n)\n",
    "        print(\"Sample\" , i+1 , \" : \" , s)\n",
    "        if (has_duplicates(s)):\n",
    "            print(\"\")\n",
    "            print (\"Duplicates list: \" ,find_duplicates(s))\n",
    "            print (\"-----------------------------------------------------------------------------------\")\n",
    "            found_duplicate+=1\n",
    "        else:\n",
    "            print(\"------------------------------------------------------------------------------------\")\n",
    "    prob = found_duplicate/k\n",
    "    return prob\n",
    "    "
   ]
  },
  {
   "cell_type": "code",
   "execution_count": null,
   "metadata": {
    "collapsed": true
   },
   "outputs": [],
   "source": [
    "# Find duplicates in a list\n",
    "# input : list\n",
    "# out : list of duplicates\n",
    "\n",
    "def find_duplicates (l):\n",
    "    duplicate_list = []\n",
    "    s = l[:] # create copy of original list 'l'\n",
    "    s.sort()\n",
    "    \n",
    "    for index in range(0,len(s)-1):\n",
    "        if (s[index]==s[index+1]):\n",
    "            duplicate_list.append(s[index])\n",
    "    return duplicate_list"
   ]
  },
  {
   "cell_type": "code",
   "execution_count": null,
   "metadata": {
    "collapsed": true
   },
   "outputs": [],
   "source": [
    "for i in range (0,5):\n",
    "    print(i)"
   ]
  },
  {
   "cell_type": "code",
   "execution_count": null,
   "metadata": {
    "collapsed": true
   },
   "outputs": [],
   "source": [
    "a = [1,3,4,6,7,1]\n",
    "has_duplicates(a)"
   ]
  },
  {
   "cell_type": "code",
   "execution_count": null,
   "metadata": {
    "collapsed": true,
    "scrolled": true
   },
   "outputs": [],
   "source": [
    "# function to find if there is any duplicate in the list\n",
    "# function return 'True' if duplicate exist else returns 'False'\n",
    "\n",
    "# input : list\n",
    "# output : boolean\n",
    "\n",
    "def has_duplicates (l):\n",
    "    s = l[:] # create copy of original list 'l'\n",
    "    s.sort()\n",
    "    \n",
    "    for index in range(0,len(s)-1):\n",
    "        if (s[index]==s[index+1]):\n",
    "            return True\n",
    "    else:\n",
    "        return False   \n",
    "\n",
    "#------------------------------------------------------------------------------------------------------------\n",
    "    \n",
    "\n",
    "# This function creates a list of random birthdays of size 'n' \n",
    "# assumption : all the birthdays are from non-leap year\n",
    "# i.e. there are 365 days in an year\n",
    "\n",
    "# input : length of the list to generate\n",
    "# output : list\n",
    "\n",
    "import random\n",
    "\n",
    "def generate_birthday_list(n):\n",
    "    s = []\n",
    "    for i in range(0,n):\n",
    "        birthday = random.randint(1,365)\n",
    "        s.append(birthday)\n",
    "    return s\n",
    "\n",
    "#------------------------------------------------------------------------------------------------------------\n",
    "\n",
    "\n",
    "# Calculate probability of any two students having the same birthday \n",
    "# in a class of size 'n' for sample size 'k' \n",
    "\n",
    "# input : Class size (n) and Sample Size (k)\n",
    "\n",
    "def calculate_prob (n,k):\n",
    "    found_duplicate=0\n",
    "    for i in range (0,k):\n",
    "        s = generate_birthday_list(n)\n",
    "        print(\"Sample\" , i+1 , \" : \" , s)\n",
    "        if (has_duplicates(s)):\n",
    "            print(\"\")\n",
    "            print (\"Duplicates list: \" ,find_duplicates(s))\n",
    "            print (\"-----------------------------------------------------------------------------------\")\n",
    "            found_duplicate+=1\n",
    "        else:\n",
    "            print(\"------------------------------------------------------------------------------------\")\n",
    "    prob = found_duplicate/k\n",
    "    return prob\n",
    "\n",
    "\n",
    "#------------------------------------------------------------------------------------------------------------\n",
    "\n",
    "# Find duplicates in a list\n",
    "# input : list\n",
    "# out : list of duplicates\n",
    "\n",
    "def find_duplicates (l):\n",
    "    duplicate_list = []\n",
    "    s = l[:] # create copy of original list 'l'\n",
    "    s.sort()\n",
    "    \n",
    "    for index in range(0,len(s)-1):\n",
    "        if (s[index]==s[index+1]):\n",
    "            duplicate_list.append(s[index])\n",
    "    return duplicate_list\n",
    "\n",
    "#------------------------------------------------------------------------------------------------------------\n",
    "\n",
    "\n",
    "# MAIN FUCNTION TO PRINT FOLLOWING\n",
    "\n",
    "\"\"\"\n",
    "– number of students,\n",
    "– number of iterations/samples\n",
    "– list of duplicate days for each iteration, where\n",
    "duplicates are found.\n",
    "\"\"\"\n",
    "\n",
    "# Probality here is the probability of having any 2 students having the same birthday in the class\n",
    "\n",
    "n = 45\n",
    "k = 20\n",
    "print (\"Number of students in class : \", n)\n",
    "print (\"Number of iterations/samples used: \", k)\n",
    "print (\"------------------------------------------------------------------------------------\")\n",
    "print (\"Probability: \", calculate_prob(n,k))\n",
    "\n"
   ]
  },
  {
   "cell_type": "code",
   "execution_count": null,
   "metadata": {
    "collapsed": true
   },
   "outputs": [],
   "source": [
    "CRED = '\\033[91m'\n",
    "CEND = '\\033[0m'\n",
    "print(CRED + \"Error, does not compute!\" + CEND)"
   ]
  },
  {
   "cell_type": "code",
   "execution_count": null,
   "metadata": {
    "collapsed": true
   },
   "outputs": [],
   "source": [
    "CYEL = '\\033[34m'\n",
    "CYELEND = '\\033[35m'\n",
    "print(CYEL + \"Error, does not compute!\" + CYELEND)"
   ]
  },
  {
   "cell_type": "code",
   "execution_count": null,
   "metadata": {
    "collapsed": true
   },
   "outputs": [],
   "source": [
    "for i in range(24):\n",
    "  colors = \"\"\n",
    "  for j in range(15):\n",
    "        colors = colors + \"\\33[\"+str(i+j)+\"m\\\\33[\"+str(i+j)+\"m\\033[0m \"\n",
    "        print(colors)\n",
    "        j=j+1\n",
    "  i=i+1"
   ]
  },
  {
   "cell_type": "code",
   "execution_count": null,
   "metadata": {
    "collapsed": true
   },
   "outputs": [],
   "source": [
    "# function to find if there is any duplicate in the list\n",
    "# function return 'True' if duplicate exist else returns 'False'\n",
    "\n",
    "# input : list\n",
    "# output : boolean\n",
    "\n",
    "def has_duplicates (l):\n",
    "    s = l[:] # create copy of original list 'l'\n",
    "    s.sort()\n",
    "    \n",
    "    for index in range(0,len(s)-1):\n",
    "        if (s[index]==s[index+1]):\n",
    "            return True\n",
    "    else:\n",
    "        return False   \n",
    "\n",
    "#------------------------------------------------------------------------------------------------------------\n",
    "    \n",
    "\n",
    "# This function creates a list of random birthdays of size 'n' \n",
    "# assumption : all the birthdays are from non-leap year\n",
    "# i.e. there are 365 days in an year\n",
    "\n",
    "# input : length of the list to generate\n",
    "# output : list\n",
    "\n",
    "import random\n",
    "\n",
    "def generate_birthday_list(n):\n",
    "    s = []\n",
    "    for i in range(0,n):\n",
    "        birthday = random.randint(1,365)\n",
    "        s.append(birthday)\n",
    "    return s\n",
    "\n",
    "#------------------------------------------------------------------------------------------------------------\n",
    "\n",
    "\n",
    "# Calculate probability of any two students having the same birthday \n",
    "# in a class of size 'n' for sample size 'k' \n",
    "\n",
    "# input : Class size (n) and Sample Size (k)\n",
    "\n",
    "def calculate_prob (n,k):\n",
    "    found_duplicate=0\n",
    "    for i in range (0,k):\n",
    "        s = generate_birthday_list(n)\n",
    "        print('\\033[34m' + \"Sample\" , i+1 , \" : \" , s, '\\033[35m' )\n",
    "        if (has_duplicates(s)):\n",
    "            print(\"\")\n",
    "            print ('\\033[32m' + \"Duplicates list: \" ,find_duplicates(s), '\\033[33m' )\n",
    "            print (\"-----------------------------------------------------------------------------------\")\n",
    "            found_duplicate+=1\n",
    "        else:\n",
    "            print(\"------------------------------------------------------------------------------------\")\n",
    "    prob = found_duplicate/k\n",
    "    return prob\n",
    "\n",
    "\n",
    "#------------------------------------------------------------------------------------------------------------\n",
    "\n",
    "# Find duplicates in a list\n",
    "# input : list\n",
    "# out : list of duplicates\n",
    "\n",
    "def find_duplicates (l):\n",
    "    duplicate_list = []\n",
    "    s = l[:] # create copy of original list 'l'\n",
    "    s.sort()\n",
    "    \n",
    "    for index in range(0,len(s)-1):\n",
    "        if (s[index]==s[index+1]):\n",
    "            duplicate_list.append(s[index])\n",
    "    return duplicate_list\n",
    "\n",
    "#------------------------------------------------------------------------------------------------------------\n",
    "\n",
    "\n",
    "# MAIN FUCNTION TO PRINT FOLLOWING\n",
    "\n",
    "\"\"\"\n",
    "– number of students,\n",
    "– number of iterations/samples\n",
    "– list of duplicate days for each iteration, where\n",
    "duplicates are found.\n",
    "\"\"\"\n",
    "# Probality here is the probability of having any 2 students having the same birthday in the class\n",
    "\n",
    "# input : Class size (n) and Sample Size (k)\n",
    "\n",
    "def main(n,k):\n",
    "    \n",
    "    print ('\\033[32m' + \"Number of students in class : \", n , '\\033[33m')\n",
    "    print ('\\033[32m' + \"Number of iterations/samples used: \", k, '\\033[33m')\n",
    "    print ('\\033[32m' + \"------------------------------------------------------------------------------------\" + CGRNEND)\n",
    "    print ('\\033[31m' + \"Probability: \", calculate_prob(n,k), '\\033[32m')"
   ]
  },
  {
   "cell_type": "code",
   "execution_count": null,
   "metadata": {
    "collapsed": true
   },
   "outputs": [],
   "source": [
    "CBLU = '\\033[31m'\n",
    "CBLUEND = '\\033[32m'\n",
    "\n",
    "\n",
    "\n",
    "print (CBLU + \"Number of students in class : \", n , CBLUEND)"
   ]
  },
  {
   "cell_type": "code",
   "execution_count": null,
   "metadata": {
    "collapsed": true
   },
   "outputs": [],
   "source": [
    "main(10,10)"
   ]
  },
  {
   "cell_type": "code",
   "execution_count": 3,
   "metadata": {
    "collapsed": true
   },
   "outputs": [],
   "source": [
    "def find_duplicates (l):\n",
    "    duplicate_list = []\n",
    "    s = l[:] # create copy of original list 'l'\n",
    "    s.sort()\n",
    "    index = 0\n",
    "    while (index < len(s)-1):\n",
    "        if (s[index]==s[index+1]):\n",
    "            duplicate_list.append(s[index])\n",
    "            while (index+1 < len(s)-1):\n",
    "                if (s[index+1]==s[index]):\n",
    "                    duplicate_list.append(s[index+1])\n",
    "                    index+=1\n",
    "                else:\n",
    "                    index+=1\n",
    "                    break\n",
    "        else:\n",
    "            index+=1\n",
    "    return duplicate_list"
   ]
  },
  {
   "cell_type": "code",
   "execution_count": 9,
   "metadata": {},
   "outputs": [],
   "source": [
    "a = [115, 345, 320, 283, 106, 353, 93, 184, 168, 360, 299, 322, 212, 110, 115, 326, 121, 162, 88, 344, 354, 257, 122, 122, 116, 329, 253, 236, 10, 23, 212, 158, 99, 169, 245, 326, 333, 221, 52, 210, 314, 65, 183, 355, 294] \n"
   ]
  },
  {
   "cell_type": "code",
   "execution_count": 10,
   "metadata": {},
   "outputs": [
    {
     "data": {
      "text/plain": [
       "[115, 115, 122, 122, 212, 212, 326, 326]"
      ]
     },
     "execution_count": 10,
     "metadata": {},
     "output_type": "execute_result"
    }
   ],
   "source": [
    "find_duplicates(a)"
   ]
  },
  {
   "cell_type": "code",
   "execution_count": 13,
   "metadata": {
    "collapsed": true
   },
   "outputs": [],
   "source": [
    "import random\n",
    "def generate_birthday_list(n):\n",
    "    s = []\n",
    "    for i in range(0,n):\n",
    "        birthday = random.randint(1,365)\n",
    "        s.append(birthday)\n",
    "    return s"
   ]
  },
  {
   "cell_type": "code",
   "execution_count": 14,
   "metadata": {},
   "outputs": [],
   "source": [
    "a = generate_birthday_list(45)"
   ]
  },
  {
   "cell_type": "code",
   "execution_count": 16,
   "metadata": {},
   "outputs": [
    {
     "data": {
      "text/plain": [
       "[218, 218, 242, 242, 261, 261, 319, 319]"
      ]
     },
     "execution_count": 16,
     "metadata": {},
     "output_type": "execute_result"
    }
   ],
   "source": [
    "find_duplicates(a)"
   ]
  },
  {
   "cell_type": "code",
   "execution_count": 3,
   "metadata": {
    "collapsed": true
   },
   "outputs": [],
   "source": [
    "# function to find if there is any duplicate in the list\n",
    "# function return 'True' if duplicate exist else returns 'False'\n",
    "\n",
    "# input : list\n",
    "# output : boolean\n",
    "\n",
    "def has_duplicates (l):\n",
    "    s = l[:] # create copy of original list 'l'\n",
    "    s.sort()\n",
    "    \n",
    "    for index in range(0,len(s)-1):\n",
    "        if (s[index]==s[index+1]):\n",
    "            return True\n",
    "    else:\n",
    "        return False   \n",
    "\n",
    "#------------------------------------------------------------------------------------------------------------\n",
    "    \n",
    "\n",
    "# This function creates a list of random birthdays of size 'n' \n",
    "# assumption : all the birthdays are from non-leap year\n",
    "# i.e. there are 365 days in an year\n",
    "\n",
    "# input : length of the list to generate\n",
    "# output : list\n",
    "\n",
    "import random\n",
    "\n",
    "def generate_birthday_list(n):\n",
    "    s = []\n",
    "    for i in range(0,n):\n",
    "        birthday = random.randint(1,365)\n",
    "        s.append(birthday)\n",
    "    return s\n",
    "\n",
    "#------------------------------------------------------------------------------------------------------------\n",
    "\n",
    "\n",
    "# Calculate probability of any two students having the same birthday \n",
    "# in a class of size 'n' for sample size 'k' \n",
    "\n",
    "# input : Class size (n) and Sample Size (k)\n",
    "\n",
    "def calculate_prob (n,k):\n",
    "    found_duplicate=0\n",
    "    for i in range (0,k):\n",
    "        s = generate_birthday_list(n)\n",
    "        print('\\033[34m' + \"Sample\" , i+1 , \" : \" , s, '\\033[35m' )\n",
    "        if (has_duplicates(s)):\n",
    "            print(\"\")\n",
    "            print ('\\033[32m' + \"Duplicates list: \" ,find_duplicates(s), '\\033[33m' )\n",
    "            print (\"-----------------------------------------------------------------------------------\")\n",
    "            found_duplicate+=1\n",
    "        else:\n",
    "            print(\"------------------------------------------------------------------------------------\")\n",
    "    prob = found_duplicate/k\n",
    "    return prob\n",
    "\n",
    "\n",
    "#------------------------------------------------------------------------------------------------------------\n",
    "\n",
    "# Find duplicates in a list\n",
    "# input : list\n",
    "# out : list of duplicates\n",
    "\n",
    "def find_duplicates (l):\n",
    "    duplicate_list = []\n",
    "    s = l[:] # create copy of original list 'l'\n",
    "    s.sort()\n",
    "    index = 0\n",
    "    while (index < len(s)-1):\n",
    "        if (s[index]==s[index+1]):\n",
    "            duplicate_list.append(s[index])\n",
    "            index+=1\n",
    "        else:\n",
    "            index+=1           \n",
    "    return duplicate_list\n",
    "\n",
    "#------------------------------------------------------------------------------------------------------------\n",
    "\n",
    "\n",
    "# MAIN FUCNTION TO PRINT FOLLOWING\n",
    "\n",
    "\"\"\"\n",
    "– number of students,\n",
    "– number of iterations/samples\n",
    "– list of duplicate days for each iteration, where\n",
    "duplicates are found.\n",
    "\"\"\"\n",
    "# Probality here is the probability of having any 2 students having the same birthday in the class\n",
    "\n",
    "# input : Class size (n) and Sample Size (k)\n",
    "\n",
    "def main(n,k):\n",
    "    \n",
    "    print ('\\033[32m' + \"Number of students in class : \", n , '\\033[33m')\n",
    "    print ('\\033[32m' + \"Number of iterations/samples used: \", k, '\\033[33m')\n",
    "    print ('\\033[32m' + \"------------------------------------------------------------------------------------\" + '\\033[33m')\n",
    "    print ('\\033[31m' + \"Probability: \", calculate_prob(n,k), '\\033[32m')"
   ]
  },
  {
   "cell_type": "code",
   "execution_count": 6,
   "metadata": {},
   "outputs": [
    {
     "name": "stdout",
     "output_type": "stream",
     "text": [
      "\u001b[32mNumber of students in class :  45 \u001b[33m\n",
      "\u001b[32mNumber of iterations/samples used:  30 \u001b[33m\n",
      "\u001b[32m------------------------------------------------------------------------------------\u001b[33m\n",
      "\u001b[34mSample 1  :  [109, 76, 134, 238, 319, 282, 82, 249, 197, 127, 55, 293, 309, 256, 44, 117, 128, 355, 197, 244, 363, 35, 236, 23, 245, 52, 120, 342, 181, 74, 234, 274, 102, 296, 358, 66, 60, 48, 73, 9, 358, 358, 332, 333, 285] \u001b[35m\n",
      "\n",
      "\u001b[32mDuplicates list:  [197, 358, 358] \u001b[33m\n",
      "-----------------------------------------------------------------------------------\n",
      "\u001b[34mSample 2  :  [168, 187, 13, 67, 351, 180, 138, 126, 22, 138, 295, 171, 107, 287, 163, 80, 106, 205, 204, 248, 147, 5, 134, 174, 219, 78, 107, 15, 36, 145, 203, 319, 344, 93, 34, 260, 294, 213, 41, 134, 315, 230, 11, 8, 365] \u001b[35m\n",
      "\n",
      "\u001b[32mDuplicates list:  [107, 134, 138] \u001b[33m\n",
      "-----------------------------------------------------------------------------------\n",
      "\u001b[34mSample 3  :  [46, 22, 52, 310, 348, 300, 297, 339, 57, 67, 358, 341, 235, 136, 174, 202, 330, 107, 192, 52, 222, 257, 310, 235, 30, 25, 237, 187, 349, 204, 276, 217, 81, 30, 244, 77, 261, 293, 34, 282, 149, 360, 100, 278, 146] \u001b[35m\n",
      "\n",
      "\u001b[32mDuplicates list:  [30, 52, 235, 310] \u001b[33m\n",
      "-----------------------------------------------------------------------------------\n",
      "\u001b[34mSample 4  :  [107, 43, 129, 202, 145, 285, 145, 58, 164, 323, 346, 29, 99, 114, 168, 94, 256, 198, 7, 267, 238, 309, 199, 362, 173, 77, 214, 2, 307, 93, 68, 140, 147, 190, 77, 165, 151, 287, 26, 287, 360, 252, 215, 136, 363] \u001b[35m\n",
      "\n",
      "\u001b[32mDuplicates list:  [77, 145, 287] \u001b[33m\n",
      "-----------------------------------------------------------------------------------\n",
      "\u001b[34mSample 5  :  [188, 50, 47, 19, 55, 37, 136, 48, 208, 225, 164, 200, 315, 333, 8, 9, 28, 353, 164, 100, 297, 268, 333, 174, 339, 176, 35, 131, 356, 65, 157, 75, 43, 223, 182, 146, 312, 180, 117, 338, 359, 301, 170, 106, 23] \u001b[35m\n",
      "\n",
      "\u001b[32mDuplicates list:  [164, 333] \u001b[33m\n",
      "-----------------------------------------------------------------------------------\n",
      "\u001b[34mSample 6  :  [286, 88, 305, 5, 205, 99, 41, 68, 52, 223, 13, 330, 102, 136, 189, 223, 114, 348, 197, 295, 141, 210, 204, 83, 169, 48, 123, 123, 247, 358, 319, 337, 147, 157, 296, 263, 73, 330, 205, 219, 6, 287, 313, 30, 103] \u001b[35m\n",
      "\n",
      "\u001b[32mDuplicates list:  [123, 205, 223, 330] \u001b[33m\n",
      "-----------------------------------------------------------------------------------\n",
      "\u001b[34mSample 7  :  [70, 64, 365, 325, 349, 217, 84, 159, 97, 105, 320, 356, 97, 163, 36, 43, 268, 326, 354, 299, 201, 138, 285, 206, 8, 229, 190, 321, 327, 354, 252, 21, 344, 231, 132, 260, 342, 250, 54, 110, 248, 11, 48, 209, 302] \u001b[35m\n",
      "\n",
      "\u001b[32mDuplicates list:  [97, 354] \u001b[33m\n",
      "-----------------------------------------------------------------------------------\n",
      "\u001b[34mSample 8  :  [196, 55, 93, 322, 23, 272, 306, 290, 227, 275, 2, 281, 309, 152, 269, 115, 350, 100, 33, 65, 188, 316, 2, 148, 144, 173, 271, 128, 79, 163, 201, 222, 17, 193, 217, 58, 256, 57, 244, 96, 311, 108, 341, 177, 153] \u001b[35m\n",
      "\n",
      "\u001b[32mDuplicates list:  [2] \u001b[33m\n",
      "-----------------------------------------------------------------------------------\n",
      "\u001b[34mSample 9  :  [280, 359, 163, 184, 165, 75, 355, 179, 308, 115, 12, 127, 250, 172, 65, 93, 313, 351, 272, 104, 288, 67, 191, 148, 61, 234, 143, 331, 80, 156, 110, 261, 58, 365, 91, 194, 96, 273, 276, 156, 268, 227, 278, 195, 313] \u001b[35m\n",
      "\n",
      "\u001b[32mDuplicates list:  [156, 313] \u001b[33m\n",
      "-----------------------------------------------------------------------------------\n",
      "\u001b[34mSample 10  :  [228, 63, 208, 341, 216, 359, 363, 116, 85, 104, 162, 212, 134, 74, 340, 146, 237, 156, 208, 349, 252, 326, 361, 251, 137, 36, 249, 51, 55, 276, 101, 243, 40, 98, 130, 290, 274, 232, 213, 95, 147, 300, 101, 124, 166] \u001b[35m\n",
      "\n",
      "\u001b[32mDuplicates list:  [101, 208] \u001b[33m\n",
      "-----------------------------------------------------------------------------------\n",
      "\u001b[34mSample 11  :  [151, 286, 179, 8, 33, 55, 143, 36, 32, 192, 26, 107, 264, 329, 252, 54, 137, 131, 254, 14, 190, 182, 44, 20, 104, 326, 85, 140, 13, 174, 340, 115, 326, 209, 136, 323, 184, 291, 45, 13, 142, 232, 355, 243, 346] \u001b[35m\n",
      "\n",
      "\u001b[32mDuplicates list:  [13, 326] \u001b[33m\n",
      "-----------------------------------------------------------------------------------\n",
      "\u001b[34mSample 12  :  [62, 156, 170, 365, 231, 118, 253, 142, 279, 122, 363, 67, 228, 203, 272, 338, 186, 183, 214, 238, 48, 170, 107, 292, 31, 47, 241, 229, 122, 162, 190, 53, 194, 316, 215, 291, 62, 262, 172, 343, 155, 54, 198, 176, 37] \u001b[35m\n",
      "\n",
      "\u001b[32mDuplicates list:  [62, 122, 170] \u001b[33m\n",
      "-----------------------------------------------------------------------------------\n",
      "\u001b[34mSample 13  :  [185, 19, 195, 189, 193, 32, 358, 242, 340, 26, 76, 126, 46, 148, 94, 83, 251, 360, 313, 260, 58, 54, 351, 159, 332, 353, 272, 229, 186, 266, 143, 152, 323, 293, 166, 356, 96, 144, 75, 158, 296, 230, 303, 95, 203] \u001b[35m\n",
      "------------------------------------------------------------------------------------\n",
      "\u001b[34mSample 14  :  [105, 28, 353, 122, 69, 142, 175, 42, 288, 354, 253, 5, 217, 93, 300, 187, 339, 276, 14, 95, 43, 281, 174, 176, 243, 163, 147, 137, 302, 73, 331, 200, 226, 124, 16, 364, 133, 238, 245, 335, 322, 237, 221, 140, 87] \u001b[35m\n",
      "------------------------------------------------------------------------------------\n",
      "\u001b[34mSample 15  :  [140, 242, 350, 224, 121, 76, 187, 171, 283, 105, 105, 340, 93, 198, 197, 200, 285, 308, 270, 136, 36, 220, 238, 249, 45, 187, 189, 262, 12, 222, 287, 116, 4, 88, 94, 175, 303, 122, 59, 178, 334, 188, 240, 333, 85] \u001b[35m\n",
      "\n",
      "\u001b[32mDuplicates list:  [105, 187] \u001b[33m\n",
      "-----------------------------------------------------------------------------------\n",
      "\u001b[34mSample 16  :  [318, 315, 69, 39, 320, 345, 179, 277, 110, 279, 66, 12, 172, 253, 221, 341, 336, 252, 28, 274, 270, 280, 110, 274, 310, 175, 346, 355, 272, 133, 36, 42, 250, 196, 326, 134, 225, 251, 38, 91, 77, 295, 46, 214, 141] \u001b[35m\n",
      "\n",
      "\u001b[32mDuplicates list:  [110, 274] \u001b[33m\n",
      "-----------------------------------------------------------------------------------\n",
      "\u001b[34mSample 17  :  [294, 346, 61, 8, 317, 223, 226, 339, 295, 36, 92, 120, 13, 172, 23, 314, 332, 89, 345, 39, 330, 275, 258, 200, 227, 88, 112, 10, 90, 100, 176, 18, 207, 265, 263, 10, 154, 165, 311, 177, 56, 254, 188, 111, 42] \u001b[35m\n",
      "\n",
      "\u001b[32mDuplicates list:  [10] \u001b[33m\n",
      "-----------------------------------------------------------------------------------\n",
      "\u001b[34mSample 18  :  [189, 354, 356, 220, 136, 171, 302, 365, 240, 56, 28, 25, 271, 10, 205, 326, 244, 48, 241, 26, 263, 344, 363, 255, 3, 17, 313, 320, 223, 14, 107, 207, 122, 309, 140, 327, 363, 113, 258, 22, 65, 255, 227, 281, 18] \u001b[35m\n",
      "\n",
      "\u001b[32mDuplicates list:  [255, 363] \u001b[33m\n",
      "-----------------------------------------------------------------------------------\n",
      "\u001b[34mSample 19  :  [30, 320, 349, 298, 26, 47, 56, 38, 45, 241, 205, 364, 151, 131, 352, 233, 328, 86, 294, 249, 206, 205, 165, 265, 68, 248, 309, 351, 148, 290, 208, 314, 346, 89, 74, 316, 148, 122, 145, 216, 93, 1, 304, 340, 348] \u001b[35m\n",
      "\n",
      "\u001b[32mDuplicates list:  [148, 205] \u001b[33m\n",
      "-----------------------------------------------------------------------------------\n",
      "\u001b[34mSample 20  :  [141, 155, 97, 77, 53, 244, 260, 64, 69, 244, 230, 72, 180, 64, 285, 327, 112, 360, 310, 290, 165, 54, 248, 297, 104, 205, 103, 139, 337, 103, 184, 119, 292, 213, 131, 120, 239, 21, 300, 12, 219, 246, 256, 213, 352] \u001b[35m\n",
      "\n",
      "\u001b[32mDuplicates list:  [64, 103, 213, 244] \u001b[33m\n",
      "-----------------------------------------------------------------------------------\n",
      "\u001b[34mSample 21  :  [234, 356, 58, 329, 159, 360, 128, 360, 285, 211, 327, 114, 200, 361, 65, 38, 275, 96, 273, 187, 64, 59, 356, 65, 60, 107, 297, 28, 244, 103, 30, 330, 142, 126, 184, 124, 72, 275, 309, 292, 124, 58, 108, 179, 138] \u001b[35m\n",
      "\n",
      "\u001b[32mDuplicates list:  [58, 65, 124, 275, 356, 360] \u001b[33m\n",
      "-----------------------------------------------------------------------------------\n",
      "\u001b[34mSample 22  :  [39, 222, 146, 158, 152, 309, 296, 91, 57, 2, 162, 7, 200, 200, 130, 323, 245, 364, 137, 335, 255, 292, 211, 243, 294, 207, 357, 64, 13, 268, 202, 245, 84, 213, 309, 276, 112, 179, 11, 158, 92, 170, 273, 252, 173] \u001b[35m\n",
      "\n",
      "\u001b[32mDuplicates list:  [158, 200, 245, 309] \u001b[33m\n",
      "-----------------------------------------------------------------------------------\n",
      "\u001b[34mSample 23  :  [64, 349, 155, 180, 65, 342, 135, 119, 197, 1, 58, 202, 287, 24, 199, 342, 295, 280, 264, 96, 251, 107, 334, 320, 171, 341, 360, 60, 262, 38, 82, 158, 282, 323, 333, 292, 71, 246, 308, 323, 271, 354, 340, 35, 202] \u001b[35m\n",
      "\n",
      "\u001b[32mDuplicates list:  [202, 323, 342] \u001b[33m\n",
      "-----------------------------------------------------------------------------------\n",
      "\u001b[34mSample 24  :  [2, 314, 292, 138, 30, 287, 329, 199, 182, 154, 120, 243, 200, 123, 200, 307, 178, 314, 286, 15, 222, 361, 25, 106, 339, 265, 185, 353, 187, 315, 135, 101, 141, 93, 306, 148, 355, 162, 329, 105, 245, 241, 188, 124, 307] \u001b[35m\n",
      "\n",
      "\u001b[32mDuplicates list:  [200, 307, 314, 329] \u001b[33m\n",
      "-----------------------------------------------------------------------------------\n",
      "\u001b[34mSample 25  :  [270, 302, 63, 269, 64, 327, 248, 34, 280, 40, 2, 351, 203, 64, 9, 354, 231, 354, 297, 220, 3, 134, 185, 132, 128, 172, 332, 82, 42, 188, 47, 17, 318, 178, 237, 3, 6, 328, 89, 206, 343, 297, 29, 332, 138] \u001b[35m\n",
      "\n",
      "\u001b[32mDuplicates list:  [3, 64, 297, 332, 354] \u001b[33m\n",
      "-----------------------------------------------------------------------------------\n",
      "\u001b[34mSample 26  :  [37, 302, 331, 20, 31, 210, 216, 122, 265, 59, 239, 72, 158, 172, 235, 32, 128, 145, 28, 354, 245, 212, 319, 162, 163, 316, 346, 91, 307, 339, 48, 271, 162, 81, 218, 24, 71, 250, 267, 102, 221, 71, 356, 92, 232] \u001b[35m\n",
      "\n",
      "\u001b[32mDuplicates list:  [71, 162] \u001b[33m\n",
      "-----------------------------------------------------------------------------------\n",
      "\u001b[34mSample 27  :  [152, 205, 102, 4, 235, 365, 136, 298, 111, 111, 86, 55, 121, 139, 52, 285, 349, 222, 282, 122, 241, 56, 167, 313, 129, 159, 32, 196, 231, 121, 338, 28, 227, 99, 344, 194, 212, 293, 305, 250, 152, 352, 327, 333, 204] \u001b[35m\n",
      "\n",
      "\u001b[32mDuplicates list:  [111, 121, 152] \u001b[33m\n",
      "-----------------------------------------------------------------------------------\n",
      "\u001b[34mSample 28  :  [105, 163, 137, 229, 52, 319, 161, 364, 238, 353, 259, 147, 311, 26, 323, 351, 357, 208, 353, 225, 280, 361, 153, 45, 143, 59, 268, 196, 202, 164, 222, 161, 11, 74, 192, 150, 247, 58, 347, 216, 92, 247, 80, 175, 24] \u001b[35m\n",
      "\n",
      "\u001b[32mDuplicates list:  [161, 247, 353] \u001b[33m\n",
      "-----------------------------------------------------------------------------------\n",
      "\u001b[34mSample 29  :  [10, 174, 131, 88, 323, 2, 159, 22, 46, 342, 49, 158, 212, 321, 302, 322, 311, 254, 364, 48, 105, 121, 167, 42, 267, 250, 96, 313, 84, 73, 206, 93, 93, 122, 143, 25, 159, 72, 290, 52, 321, 182, 3, 21, 25] \u001b[35m\n",
      "\n",
      "\u001b[32mDuplicates list:  [25, 93, 159, 321] \u001b[33m\n",
      "-----------------------------------------------------------------------------------\n",
      "\u001b[34mSample 30  :  [312, 161, 284, 215, 171, 344, 10, 249, 168, 58, 118, 324, 209, 360, 363, 153, 256, 278, 283, 90, 56, 317, 103, 348, 249, 168, 168, 47, 98, 232, 309, 45, 265, 22, 352, 91, 238, 306, 285, 282, 353, 284, 168, 222, 209] \u001b[35m\n",
      "\n",
      "\u001b[32mDuplicates list:  [168, 168, 168, 209, 249, 284] \u001b[33m\n",
      "-----------------------------------------------------------------------------------\n",
      "\u001b[31mProbability:  0.9333333333333333 \u001b[32m\n"
     ]
    }
   ],
   "source": [
    "main(45,30)"
   ]
  },
  {
   "cell_type": "code",
   "execution_count": 7,
   "metadata": {
    "collapsed": true
   },
   "outputs": [],
   "source": [
    "a = [74, 254, 234, 104, 172, 113, 278, 236, 325, 158, 58, 202, 290, 175, 188, 280, 163, 266, 233, 11, 312, 237, 149, 261, 144, 344, 45, 301, 14, 332, 117, 144, 77, 144, 318, 330, 349, 98, 63, 217, 289, 331, 357, 235, 275] "
   ]
  },
  {
   "cell_type": "code",
   "execution_count": 8,
   "metadata": {},
   "outputs": [
    {
     "data": {
      "text/plain": [
       "[144, 144]"
      ]
     },
     "execution_count": 8,
     "metadata": {},
     "output_type": "execute_result"
    }
   ],
   "source": [
    "find_duplicates(a)"
   ]
  },
  {
   "cell_type": "code",
   "execution_count": 28,
   "metadata": {
    "collapsed": true
   },
   "outputs": [],
   "source": [
    "def find_duplicates (l):\n",
    "    duplicate_list = []\n",
    "    s = l[:] # create copy of original list 'l'\n",
    "    s.sort()\n",
    "    index = 0\n",
    "    while (index < len(s)-1):\n",
    "        if (s[index]==s[index+1]):\n",
    "            dup_value = s[index]\n",
    "            duplicate_list.append(s[index])\n",
    "            while (index+1 < len(s)):\n",
    "                if (s[index+1]==dup_value):\n",
    "                    duplicate_list.append(s[index+1])\n",
    "                    index+=1\n",
    "                else:\n",
    "                    index+=1\n",
    "                    break\n",
    "        else:\n",
    "            index+=1\n",
    "    return duplicate_list"
   ]
  },
  {
   "cell_type": "code",
   "execution_count": 33,
   "metadata": {},
   "outputs": [
    {
     "name": "stdout",
     "output_type": "stream",
     "text": [
      "[1, 1, 1, 1, 2, 2, 3]\n"
     ]
    },
    {
     "data": {
      "text/plain": [
       "[1, 1, 1, 1, 2, 2]"
      ]
     },
     "execution_count": 33,
     "metadata": {},
     "output_type": "execute_result"
    }
   ],
   "source": [
    "find_duplicates(a)"
   ]
  },
  {
   "cell_type": "code",
   "execution_count": 32,
   "metadata": {
    "collapsed": true
   },
   "outputs": [],
   "source": [
    "a = [1,1,1,1,2,2,3]"
   ]
  },
  {
   "cell_type": "code",
   "execution_count": null,
   "metadata": {
    "collapsed": true
   },
   "outputs": [],
   "source": []
  }
 ],
 "metadata": {
  "kernelspec": {
   "display_name": "Python 3",
   "language": "python",
   "name": "python3"
  },
  "language_info": {
   "codemirror_mode": {
    "name": "ipython",
    "version": 3
   },
   "file_extension": ".py",
   "mimetype": "text/x-python",
   "name": "python",
   "nbconvert_exporter": "python",
   "pygments_lexer": "ipython3",
   "version": "3.6.3"
  }
 },
 "nbformat": 4,
 "nbformat_minor": 2
}
