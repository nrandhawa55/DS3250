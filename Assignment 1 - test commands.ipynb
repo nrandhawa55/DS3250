{
 "cells": [
  {
   "cell_type": "code",
   "execution_count": 1,
   "metadata": {
    "collapsed": true
   },
   "outputs": [],
   "source": [
    "# function to find if there is any duplicate in the list\n",
    "# function return 'True' if duplicate exist else returns 'False'\n",
    "\n",
    "# input : list\n",
    "# output : boolean\n",
    "\n",
    "def has_duplicates (l):\n",
    "    s = l[:] # create copy of original list 'l'\n",
    "    s.sort()\n",
    "    \n",
    "    for index in range(0,len(s)-1):\n",
    "        if (s[index]==s[index+1]):\n",
    "            return True\n",
    "    else:\n",
    "        return False   \n",
    "\n",
    "#------------------------------------------------------------------------------------------------------------\n",
    "    \n",
    "\n",
    "# This function creates a list of random birthdays of size 'n' \n",
    "# assumption : all the birthdays are from non-leap year\n",
    "# i.e. there are 365 days in an year\n",
    "\n",
    "# input : length of the list to generate\n",
    "# output : list\n",
    "\n",
    "import random\n",
    "\n",
    "def generate_birthday_list(n):\n",
    "    s = []\n",
    "    for i in range(0,n):\n",
    "        birthday = random.randint(1,365)\n",
    "        s.append(birthday)\n",
    "    return s\n",
    "\n",
    "#------------------------------------------------------------------------------------------------------------\n",
    "\n",
    "\n",
    "# Calculate probability of any two students having the same birthday \n",
    "# in a class of size 'n' for sample size 'k' \n",
    "\n",
    "# input : Class size (n) and Sample Size (k)\n",
    "\n",
    "def calculate_prob (n,k):\n",
    "    found_duplicate=0\n",
    "    for i in range (0,k):\n",
    "        s = generate_birthday_list(n)\n",
    "        print('\\033[34m' + \"Sample\" , i+1 , \" : \" , s, '\\033[35m' )\n",
    "        if (has_duplicates(s)):\n",
    "            print(\"\")\n",
    "            print ('\\033[32m' + \"Duplicates list: \" ,find_duplicates(s), '\\033[33m' )\n",
    "            print (\"-----------------------------------------------------------------------------------\")\n",
    "            found_duplicate+=1\n",
    "        else:\n",
    "            print(\"------------------------------------------------------------------------------------\")\n",
    "    prob = found_duplicate/k\n",
    "    return prob\n",
    "\n",
    "\n",
    "#------------------------------------------------------------------------------------------------------------\n",
    "\n",
    "# Find duplicates in a list\n",
    "# input : list\n",
    "# out : list of duplicates\n",
    "\n",
    "def find_duplicates (l):\n",
    "    duplicate_list = []\n",
    "    s = l[:] # create copy of original list 'l'\n",
    "    s.sort()\n",
    "    index = 0\n",
    "    while (index < len(s)-1):\n",
    "        if (s[index]==s[index+1]):\n",
    "            dup_value = s[index]\n",
    "            duplicate_list.append(s[index])\n",
    "            while (index+1 < len(s)):\n",
    "                if (s[index+1]==dup_value):\n",
    "                    duplicate_list.append(s[index+1])\n",
    "                    index+=1\n",
    "                else:\n",
    "                    index+=1\n",
    "                    break\n",
    "        else:\n",
    "            index+=1\n",
    "    return duplicate_list\n",
    "\n",
    "#------------------------------------------------------------------------------------------------------------\n",
    "\n",
    "\n",
    "# MAIN FUCNTION TO PRINT FOLLOWING\n",
    "\n",
    "\"\"\"\n",
    "– number of students,\n",
    "– number of iterations/samples\n",
    "– list of duplicate days for each iteration, where\n",
    "duplicates are found.\n",
    "\"\"\"\n",
    "# Probality here is the probability of having any 2 students having the same birthday in the class\n",
    "\n",
    "# input : Class size (n) and Sample Size (k)\n",
    "\n",
    "def main(n,k):\n",
    "    \n",
    "    print ('\\033[32m' + \"Number of students in class : \", n , '\\033[33m')\n",
    "    print ('\\033[32m' + \"Number of iterations/samples used: \", k, '\\033[33m')\n",
    "    print ('\\033[32m' + \"------------------------------------------------------------------------------------\" + '\\033[33m')\n",
    "    print ('\\033[31m' + \"Probability: \", calculate_prob(n,k), '\\033[32m')"
   ]
  },
  {
   "cell_type": "code",
   "execution_count": 9,
   "metadata": {
    "collapsed": true
   },
   "outputs": [],
   "source": [
    "def calculate_prob(n):\n",
    "    prob = 1\n",
    "    for index in range (0,n):\n",
    "        aProb = (365-index)/365\n",
    "        prob = prob*aProb\n",
    "    return 1- prob"
   ]
  },
  {
   "cell_type": "code",
   "execution_count": 11,
   "metadata": {},
   "outputs": [
    {
     "data": {
      "text/plain": [
       "0.940975899465775"
      ]
     },
     "execution_count": 11,
     "metadata": {},
     "output_type": "execute_result"
    }
   ],
   "source": [
    "calculate_prob(45)"
   ]
  },
  {
   "cell_type": "markdown",
   "metadata": {},
   "source": []
  }
 ],
 "metadata": {
  "kernelspec": {
   "display_name": "Python 3",
   "language": "python",
   "name": "python3"
  },
  "language_info": {
   "codemirror_mode": {
    "name": "ipython",
    "version": 3
   },
   "file_extension": ".py",
   "mimetype": "text/x-python",
   "name": "python",
   "nbconvert_exporter": "python",
   "pygments_lexer": "ipython3",
   "version": "3.6.3"
  }
 },
 "nbformat": 4,
 "nbformat_minor": 2
}
